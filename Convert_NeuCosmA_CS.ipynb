{
 "cells": [
  {
   "cell_type": "markdown",
   "metadata": {},
   "source": [
    "# Convert NeuCosmA files\n",
    "The file format is as following (by column):\n",
    "\n",
    "1. parent id\n",
    "2. daughter id\n",
    "3. systematic flag (currently ignored)\n",
    "4. log10(E [GeV]) (E or eps_r or y depending on corresp. column)\n",
    "5. g_ij(y) [mubarn = 10^-30 cm^2]\n",
    "6. M_ij(eps_r)\n",
    "7. f_i(y) [mubarn = 10^-30 cm^2]\n",
    "8. sigma_i(eps_r) [mubarn = 10^-30 cm^2]"
   ]
  },
  {
   "cell_type": "code",
   "execution_count": 1,
   "metadata": {},
   "outputs": [],
   "source": [
    "import numpy as np\n",
    "import pandas as pd"
   ]
  },
  {
   "cell_type": "code",
   "execution_count": 2,
   "metadata": {},
   "outputs": [
    {
     "data": {
      "text/html": [
       "<div>\n",
       "<style scoped>\n",
       "    .dataframe tbody tr th:only-of-type {\n",
       "        vertical-align: middle;\n",
       "    }\n",
       "\n",
       "    .dataframe tbody tr th {\n",
       "        vertical-align: top;\n",
       "    }\n",
       "\n",
       "    .dataframe thead th {\n",
       "        text-align: right;\n",
       "    }\n",
       "</style>\n",
       "<table border=\"1\" class=\"dataframe\">\n",
       "  <thead>\n",
       "    <tr style=\"text-align: right;\">\n",
       "      <th></th>\n",
       "      <th></th>\n",
       "      <th>sys_flag</th>\n",
       "      <th>log10(E)</th>\n",
       "      <th>g(y)</th>\n",
       "      <th>M(eps)</th>\n",
       "      <th>f_i(y)</th>\n",
       "      <th>sigma_i</th>\n",
       "      <th>dsigma_ij</th>\n",
       "    </tr>\n",
       "    <tr>\n",
       "      <th>mother</th>\n",
       "      <th>daughter</th>\n",
       "      <th></th>\n",
       "      <th></th>\n",
       "      <th></th>\n",
       "      <th></th>\n",
       "      <th></th>\n",
       "      <th></th>\n",
       "      <th></th>\n",
       "    </tr>\n",
       "  </thead>\n",
       "  <tbody>\n",
       "    <tr>\n",
       "      <th rowspan=\"5\" valign=\"top\">201</th>\n",
       "      <th>100</th>\n",
       "      <td>0</td>\n",
       "      <td>-3.500000e+00</td>\n",
       "      <td>0.0000</td>\n",
       "      <td>0.0</td>\n",
       "      <td>0.0000</td>\n",
       "      <td>0.0</td>\n",
       "      <td>0.0</td>\n",
       "    </tr>\n",
       "    <tr>\n",
       "      <th>100</th>\n",
       "      <td>0</td>\n",
       "      <td>-3.450000e+00</td>\n",
       "      <td>0.0000</td>\n",
       "      <td>0.0</td>\n",
       "      <td>0.0000</td>\n",
       "      <td>0.0</td>\n",
       "      <td>0.0</td>\n",
       "    </tr>\n",
       "    <tr>\n",
       "      <th>100</th>\n",
       "      <td>0</td>\n",
       "      <td>-3.400000e+00</td>\n",
       "      <td>0.0000</td>\n",
       "      <td>0.0</td>\n",
       "      <td>0.0000</td>\n",
       "      <td>0.0</td>\n",
       "      <td>0.0</td>\n",
       "    </tr>\n",
       "    <tr>\n",
       "      <th>100</th>\n",
       "      <td>0</td>\n",
       "      <td>-3.350000e+00</td>\n",
       "      <td>0.0000</td>\n",
       "      <td>0.0</td>\n",
       "      <td>0.0000</td>\n",
       "      <td>0.0</td>\n",
       "      <td>0.0</td>\n",
       "    </tr>\n",
       "    <tr>\n",
       "      <th>100</th>\n",
       "      <td>0</td>\n",
       "      <td>-3.300000e+00</td>\n",
       "      <td>0.0000</td>\n",
       "      <td>0.0</td>\n",
       "      <td>0.0000</td>\n",
       "      <td>0.0</td>\n",
       "      <td>0.0</td>\n",
       "    </tr>\n",
       "    <tr>\n",
       "      <th>...</th>\n",
       "      <th>...</th>\n",
       "      <td>...</td>\n",
       "      <td>...</td>\n",
       "      <td>...</td>\n",
       "      <td>...</td>\n",
       "      <td>...</td>\n",
       "      <td>...</td>\n",
       "      <td>...</td>\n",
       "    </tr>\n",
       "    <tr>\n",
       "      <th rowspan=\"5\" valign=\"top\">5626</th>\n",
       "      <th>5525</th>\n",
       "      <td>1</td>\n",
       "      <td>-2.000000e-01</td>\n",
       "      <td>18.0244</td>\n",
       "      <td>0.0</td>\n",
       "      <td>140.5530</td>\n",
       "      <td>0.0</td>\n",
       "      <td>0.0</td>\n",
       "    </tr>\n",
       "    <tr>\n",
       "      <th>5525</th>\n",
       "      <td>1</td>\n",
       "      <td>-1.500000e-01</td>\n",
       "      <td>16.0738</td>\n",
       "      <td>0.0</td>\n",
       "      <td>100.1920</td>\n",
       "      <td>0.0</td>\n",
       "      <td>0.0</td>\n",
       "    </tr>\n",
       "    <tr>\n",
       "      <th>5525</th>\n",
       "      <td>1</td>\n",
       "      <td>-1.000000e-01</td>\n",
       "      <td>15.9104</td>\n",
       "      <td>0.0</td>\n",
       "      <td>92.9049</td>\n",
       "      <td>0.0</td>\n",
       "      <td>0.0</td>\n",
       "    </tr>\n",
       "    <tr>\n",
       "      <th>5525</th>\n",
       "      <td>1</td>\n",
       "      <td>-5.000000e-02</td>\n",
       "      <td>12.2481</td>\n",
       "      <td>0.0</td>\n",
       "      <td>46.0163</td>\n",
       "      <td>0.0</td>\n",
       "      <td>0.0</td>\n",
       "    </tr>\n",
       "    <tr>\n",
       "      <th>5525</th>\n",
       "      <td>1</td>\n",
       "      <td>1.928650e-16</td>\n",
       "      <td>12.0852</td>\n",
       "      <td>0.0</td>\n",
       "      <td>34.6745</td>\n",
       "      <td>0.0</td>\n",
       "      <td>0.0</td>\n",
       "    </tr>\n",
       "  </tbody>\n",
       "</table>\n",
       "<p>48493 rows × 7 columns</p>\n",
       "</div>"
      ],
      "text/plain": [
       "                 sys_flag      log10(E)     g(y)  M(eps)    f_i(y)  sigma_i  \\\n",
       "mother daughter                                                               \n",
       "201    100              0 -3.500000e+00   0.0000     0.0    0.0000      0.0   \n",
       "       100              0 -3.450000e+00   0.0000     0.0    0.0000      0.0   \n",
       "       100              0 -3.400000e+00   0.0000     0.0    0.0000      0.0   \n",
       "       100              0 -3.350000e+00   0.0000     0.0    0.0000      0.0   \n",
       "       100              0 -3.300000e+00   0.0000     0.0    0.0000      0.0   \n",
       "...                   ...           ...      ...     ...       ...      ...   \n",
       "5626   5525             1 -2.000000e-01  18.0244     0.0  140.5530      0.0   \n",
       "       5525             1 -1.500000e-01  16.0738     0.0  100.1920      0.0   \n",
       "       5525             1 -1.000000e-01  15.9104     0.0   92.9049      0.0   \n",
       "       5525             1 -5.000000e-02  12.2481     0.0   46.0163      0.0   \n",
       "       5525             1  1.928650e-16  12.0852     0.0   34.6745      0.0   \n",
       "\n",
       "                 dsigma_ij  \n",
       "mother daughter             \n",
       "201    100             0.0  \n",
       "       100             0.0  \n",
       "       100             0.0  \n",
       "       100             0.0  \n",
       "       100             0.0  \n",
       "...                    ...  \n",
       "5626   5525            0.0  \n",
       "       5525            0.0  \n",
       "       5525            0.0  \n",
       "       5525            0.0  \n",
       "       5525            0.0  \n",
       "\n",
       "[48493 rows x 7 columns]"
      ]
     },
     "execution_count": 2,
     "metadata": {},
     "output_type": "execute_result"
    }
   ],
   "source": [
    "data_table = pd.read_csv('./prince_data_utils/resources/photo-nuclear/160513_XDIS_PSB-SS_syst.dat',delim_whitespace=True,\n",
    "            names=['mother','daughter','sys_flag','log10(E)','g(y)','M(eps)','f_i(y)','sigma_i'])\n",
    "data_table = data_table.set_index(['mother','daughter'])\n",
    "data_table['dsigma_ij'] = data_table['sigma_i'] * data_table['M(eps)'] \n",
    "data_table"
   ]
  },
  {
   "cell_type": "markdown",
   "metadata": {},
   "source": [
    "# Consistency checks\n",
    "\n",
    "Before converting, we need to check two things:\n",
    "\n",
    "- The energy grid is the same for all channels (not guaranteed for NEUCOSMA, but requried for PriNCe)\n",
    "- The nonel cross section should be the same for all mother (It is stored redundantly)"
   ]
  },
  {
   "cell_type": "code",
   "execution_count": 3,
   "metadata": {},
   "outputs": [],
   "source": [
    "last_idx = None\n",
    "last_egrid = None\n",
    "last_csec  = None\n",
    "for index, data in data_table.groupby(level=[0,1]):\n",
    "    if last_idx is None:\n",
    "        last_idx = index\n",
    "        last_egrid = data['log10(E)']\n",
    "        last_csec = data['sigma_i']\n",
    "\n",
    "    assert np.all(last_egrid.values == data['log10(E)'].values)\n",
    "    if index[0] == last_idx[0]:\n",
    "        assert np.all(last_csec.values == data['sigma_i'].values)\n",
    " \n",
    "    last_idx = index\n",
    "    last_egrid = data['log10(E)']\n",
    "    last_csec = data['sigma_i']   \n",
    "        \n",
    "    #print(data['sigma_i']) "
   ]
  },
  {
   "cell_type": "markdown",
   "metadata": {},
   "source": [
    "# Now write this to datafiles"
   ]
  },
  {
   "cell_type": "code",
   "execution_count": 4,
   "metadata": {},
   "outputs": [
    {
     "name": "stdout",
     "output_type": "stream",
     "text": [
      "(148,)\n",
      "(405, 149)\n",
      "(49386, 150)\n"
     ]
    }
   ],
   "source": [
    "egrid_peanut = np.loadtxt('./prince_data_utils/resources/photo-nuclear/PEANUT_IAS_egrid.dat.bz2')\n",
    "nonel_peanut = np.loadtxt('./prince_data_utils/resources/photo-nuclear/PEANUT_IAS_nonel.dat.bz2')\n",
    "incl_peanut  = np.loadtxt('./prince_data_utils/resources/photo-nuclear/PEANUT_IAS_incl_i_j.dat.bz2')\n",
    "\n",
    "print(egrid_peanut.shape)\n",
    "print(nonel_peanut.shape)\n",
    "print(incl_peanut.shape)"
   ]
  },
  {
   "cell_type": "code",
   "execution_count": 5,
   "metadata": {},
   "outputs": [
    {
     "name": "stdout",
     "output_type": "stream",
     "text": [
      "(71,)\n"
     ]
    }
   ],
   "source": [
    "egrid = 10**data_table[['log10(E)']].drop_duplicates()\n",
    "egrid = egrid.values\n",
    "egrid = egrid.flatten()\n",
    "\n",
    "print(egrid.shape)\n",
    "np.savetxt('./prince_data_utils/resources/photo-nuclear/PSB_egrid.dat.bz2',egrid)"
   ]
  },
  {
   "cell_type": "code",
   "execution_count": 6,
   "metadata": {},
   "outputs": [
    {
     "name": "stdout",
     "output_type": "stream",
     "text": [
      "(3621, 1)\n",
      "(52, 72)\n"
     ]
    }
   ],
   "source": [
    "table = data_table.reset_index()\n",
    "table = table[['mother','log10(E)','sigma_i']].drop_duplicates()\n",
    "table = table.drop('log10(E)',axis='columns')\n",
    "\n",
    "table = table.set_index('mother')\n",
    "print(table.shape)\n",
    "\n",
    "#array = [np.array(101)[None],np.zeros_like(egrid),]\n",
    "array = []\n",
    "array.append(np.concatenate([np.array(101)[None],np.zeros_like(egrid)]))\n",
    "for index, data in table.groupby(level=[0]):\n",
    "    data = data.T.values.flatten() * 1e-3 # mubarn to mbarn\n",
    "    array.append(np.concatenate([np.array(index)[None],data]))   \n",
    "nonel = np.array(array)\n",
    "print(nonel.shape)\n",
    "np.savetxt('./prince_data_utils/resources/photo-nuclear/PSB_nonel.dat.bz2',nonel)"
   ]
  },
  {
   "cell_type": "code",
   "execution_count": 7,
   "metadata": {},
   "outputs": [
    {
     "name": "stdout",
     "output_type": "stream",
     "text": [
      "(48493, 1)\n",
      "(683, 73)\n"
     ]
    }
   ],
   "source": [
    "table = data_table.reset_index()\n",
    "table = table[['mother','daughter','log10(E)','dsigma_ij']].drop_duplicates()\n",
    "table = table.drop('log10(E)',axis='columns')\n",
    "\n",
    "table = table.set_index(['mother','daughter'])\n",
    "print(table.shape)\n",
    "\n",
    "array = []\n",
    "for index, data in table.groupby(level=[0,1]):\n",
    "    data = data.T.values.flatten() * 1e-3 # mubarn to mbarn\n",
    "    array.append(np.concatenate([np.array(index),data]))\n",
    "incl = np.array(array)\n",
    "print(incl.shape)\n",
    "np.savetxt('./prince_data_utils/resources/photo-nuclear/PSB_incl_i_j.dat.bz2',incl)"
   ]
  },
  {
   "cell_type": "code",
   "execution_count": null,
   "metadata": {},
   "outputs": [],
   "source": []
  },
  {
   "cell_type": "code",
   "execution_count": null,
   "metadata": {},
   "outputs": [],
   "source": []
  }
 ],
 "metadata": {
  "kernelspec": {
   "display_name": "Python 3",
   "language": "python",
   "name": "python3"
  },
  "language_info": {
   "codemirror_mode": {
    "name": "ipython",
    "version": 3
   },
   "file_extension": ".py",
   "mimetype": "text/x-python",
   "name": "python",
   "nbconvert_exporter": "python",
   "pygments_lexer": "ipython3",
   "version": "3.7.7"
  }
 },
 "nbformat": 4,
 "nbformat_minor": 4
}
