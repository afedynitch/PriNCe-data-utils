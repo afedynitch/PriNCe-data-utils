{
 "cells": [
  {
   "cell_type": "markdown",
   "metadata": {},
   "source": [
    "# Convert NeuCosmA files\n",
    "The file format is as following (by column):\n",
    "\n",
    "1. parent id\n",
    "2. daughter id\n",
    "3. systematic flag (currently ignored)\n",
    "4. log10(E [GeV]) (E or eps_r or y depending on corresp. column)\n",
    "5. g_ij(y) [mubarn = 10^-30 cm^2]\n",
    "6. M_ij(eps_r)\n",
    "7. f_i(y) [mubarn = 10^-30 cm^2]\n",
    "8. sigma_i(eps_r) [mubarn = 10^-30 cm^2]"
   ]
  },
  {
   "cell_type": "code",
   "execution_count": 1,
   "metadata": {},
   "outputs": [],
   "source": [
    "import numpy as np\n",
    "import pandas as pd"
   ]
  },
  {
   "cell_type": "code",
   "execution_count": 2,
   "metadata": {},
   "outputs": [
    {
     "data": {
      "text/html": [
       "<div>\n",
       "<style scoped>\n",
       "    .dataframe tbody tr th:only-of-type {\n",
       "        vertical-align: middle;\n",
       "    }\n",
       "\n",
       "    .dataframe tbody tr th {\n",
       "        vertical-align: top;\n",
       "    }\n",
       "\n",
       "    .dataframe thead th {\n",
       "        text-align: right;\n",
       "    }\n",
       "</style>\n",
       "<table border=\"1\" class=\"dataframe\">\n",
       "  <thead>\n",
       "    <tr style=\"text-align: right;\">\n",
       "      <th></th>\n",
       "      <th></th>\n",
       "      <th>sys_flag</th>\n",
       "      <th>log10(E)</th>\n",
       "      <th>g(y)</th>\n",
       "      <th>M(eps)</th>\n",
       "      <th>f_i(y)</th>\n",
       "      <th>sigma_i</th>\n",
       "      <th>dsigma_ij</th>\n",
       "    </tr>\n",
       "    <tr>\n",
       "      <th>mother</th>\n",
       "      <th>daughter</th>\n",
       "      <th></th>\n",
       "      <th></th>\n",
       "      <th></th>\n",
       "      <th></th>\n",
       "      <th></th>\n",
       "      <th></th>\n",
       "      <th></th>\n",
       "    </tr>\n",
       "  </thead>\n",
       "  <tbody>\n",
       "    <tr>\n",
       "      <th rowspan=\"5\" valign=\"top\">201</th>\n",
       "      <th>100</th>\n",
       "      <td>0</td>\n",
       "      <td>-3.500000e+00</td>\n",
       "      <td>0.0000</td>\n",
       "      <td>0.0</td>\n",
       "      <td>0.0000</td>\n",
       "      <td>0.0</td>\n",
       "      <td>0.0</td>\n",
       "    </tr>\n",
       "    <tr>\n",
       "      <th>100</th>\n",
       "      <td>0</td>\n",
       "      <td>-3.450000e+00</td>\n",
       "      <td>0.0000</td>\n",
       "      <td>0.0</td>\n",
       "      <td>0.0000</td>\n",
       "      <td>0.0</td>\n",
       "      <td>0.0</td>\n",
       "    </tr>\n",
       "    <tr>\n",
       "      <th>100</th>\n",
       "      <td>0</td>\n",
       "      <td>-3.400000e+00</td>\n",
       "      <td>0.0000</td>\n",
       "      <td>0.0</td>\n",
       "      <td>0.0000</td>\n",
       "      <td>0.0</td>\n",
       "      <td>0.0</td>\n",
       "    </tr>\n",
       "    <tr>\n",
       "      <th>100</th>\n",
       "      <td>0</td>\n",
       "      <td>-3.350000e+00</td>\n",
       "      <td>0.0000</td>\n",
       "      <td>0.0</td>\n",
       "      <td>0.0000</td>\n",
       "      <td>0.0</td>\n",
       "      <td>0.0</td>\n",
       "    </tr>\n",
       "    <tr>\n",
       "      <th>100</th>\n",
       "      <td>0</td>\n",
       "      <td>-3.300000e+00</td>\n",
       "      <td>0.0000</td>\n",
       "      <td>0.0</td>\n",
       "      <td>0.0000</td>\n",
       "      <td>0.0</td>\n",
       "      <td>0.0</td>\n",
       "    </tr>\n",
       "    <tr>\n",
       "      <th>...</th>\n",
       "      <th>...</th>\n",
       "      <td>...</td>\n",
       "      <td>...</td>\n",
       "      <td>...</td>\n",
       "      <td>...</td>\n",
       "      <td>...</td>\n",
       "      <td>...</td>\n",
       "      <td>...</td>\n",
       "    </tr>\n",
       "    <tr>\n",
       "      <th rowspan=\"5\" valign=\"top\">5626</th>\n",
       "      <th>5525</th>\n",
       "      <td>1</td>\n",
       "      <td>-2.000000e-01</td>\n",
       "      <td>18.0244</td>\n",
       "      <td>0.0</td>\n",
       "      <td>140.5530</td>\n",
       "      <td>0.0</td>\n",
       "      <td>0.0</td>\n",
       "    </tr>\n",
       "    <tr>\n",
       "      <th>5525</th>\n",
       "      <td>1</td>\n",
       "      <td>-1.500000e-01</td>\n",
       "      <td>16.0738</td>\n",
       "      <td>0.0</td>\n",
       "      <td>100.1920</td>\n",
       "      <td>0.0</td>\n",
       "      <td>0.0</td>\n",
       "    </tr>\n",
       "    <tr>\n",
       "      <th>5525</th>\n",
       "      <td>1</td>\n",
       "      <td>-1.000000e-01</td>\n",
       "      <td>15.9104</td>\n",
       "      <td>0.0</td>\n",
       "      <td>92.9049</td>\n",
       "      <td>0.0</td>\n",
       "      <td>0.0</td>\n",
       "    </tr>\n",
       "    <tr>\n",
       "      <th>5525</th>\n",
       "      <td>1</td>\n",
       "      <td>-5.000000e-02</td>\n",
       "      <td>12.2481</td>\n",
       "      <td>0.0</td>\n",
       "      <td>46.0163</td>\n",
       "      <td>0.0</td>\n",
       "      <td>0.0</td>\n",
       "    </tr>\n",
       "    <tr>\n",
       "      <th>5525</th>\n",
       "      <td>1</td>\n",
       "      <td>1.928650e-16</td>\n",
       "      <td>12.0852</td>\n",
       "      <td>0.0</td>\n",
       "      <td>34.6745</td>\n",
       "      <td>0.0</td>\n",
       "      <td>0.0</td>\n",
       "    </tr>\n",
       "  </tbody>\n",
       "</table>\n",
       "<p>48493 rows × 7 columns</p>\n",
       "</div>"
      ],
      "text/plain": [
       "                 sys_flag      log10(E)     g(y)  M(eps)    f_i(y)  sigma_i  \\\n",
       "mother daughter                                                               \n",
       "201    100              0 -3.500000e+00   0.0000     0.0    0.0000      0.0   \n",
       "       100              0 -3.450000e+00   0.0000     0.0    0.0000      0.0   \n",
       "       100              0 -3.400000e+00   0.0000     0.0    0.0000      0.0   \n",
       "       100              0 -3.350000e+00   0.0000     0.0    0.0000      0.0   \n",
       "       100              0 -3.300000e+00   0.0000     0.0    0.0000      0.0   \n",
       "...                   ...           ...      ...     ...       ...      ...   \n",
       "5626   5525             1 -2.000000e-01  18.0244     0.0  140.5530      0.0   \n",
       "       5525             1 -1.500000e-01  16.0738     0.0  100.1920      0.0   \n",
       "       5525             1 -1.000000e-01  15.9104     0.0   92.9049      0.0   \n",
       "       5525             1 -5.000000e-02  12.2481     0.0   46.0163      0.0   \n",
       "       5525             1  1.928650e-16  12.0852     0.0   34.6745      0.0   \n",
       "\n",
       "                 dsigma_ij  \n",
       "mother daughter             \n",
       "201    100             0.0  \n",
       "       100             0.0  \n",
       "       100             0.0  \n",
       "       100             0.0  \n",
       "       100             0.0  \n",
       "...                    ...  \n",
       "5626   5525            0.0  \n",
       "       5525            0.0  \n",
       "       5525            0.0  \n",
       "       5525            0.0  \n",
       "       5525            0.0  \n",
       "\n",
       "[48493 rows x 7 columns]"
      ]
     },
     "execution_count": 2,
     "metadata": {},
     "output_type": "execute_result"
    }
   ],
   "source": [
    "data_table = pd.read_csv('./prince_data_utils/resources/photo-nuclear/160513_XDIS_PSB-SS_syst.dat',delim_whitespace=True,\n",
    "            names=['mother','daughter','sys_flag','log10(E)','g(y)','M(eps)','f_i(y)','sigma_i'])\n",
    "data_table = data_table.set_index(['mother','daughter'])\n",
    "data_table['dsigma_ij'] = data_table['sigma_i'] * data_table['M(eps)'] \n",
    "data_table"
   ]
  },
  {
   "cell_type": "markdown",
   "metadata": {},
   "source": [
    "# Old function"
   ]
  },
  {
   "cell_type": "code",
   "execution_count": 3,
   "metadata": {},
   "outputs": [],
   "source": [
    "def _load_NEUCOSMA_file(filename):\n",
    "        \"\"\"Loads a txt file with format as define in the internal note.\n",
    "\n",
    "        Args:\n",
    "            filename (string): name of the ile including path\n",
    "\n",
    "        Returns:\n",
    "            (filename1, filename2) Two pickled dictionaries saved on the\n",
    "            same directory as `filename` which contain:\n",
    "            filename1: a dictionary indexed (mother, daughter) where the\n",
    "            the g function and the multiplicity are stored.\n",
    "            filename2: a dictionary indexed (mother) where the f function\n",
    "            and the total inelasticcross section are stored.\n",
    "        \"\"\"\n",
    "\n",
    "        # The file format is as following (by column):\n",
    "        # 1. parent id\n",
    "        # 2. daughter id\n",
    "        # 3. systematic flag (currently ignored)\n",
    "        # 4. log10(E [GeV]) (E or eps_r or y depending on corresp. column)\n",
    "        # 5. g_ij(y) [mubarn = 10^-30 cm^2]\n",
    "        # 6. M_ij(eps_r)\n",
    "        # 7. f_i(y) [mubarn = 10^-30 cm^2]\n",
    "        # 8. sigma_i(eps_r) [mubarn = 10^-30 cm^2]\n",
    "\n",
    "        with open(filename) as f:\n",
    "            text_data = f.readlines()\n",
    "\n",
    "        # We need the following: sigma_i, sigma_ij = M_ij * sigma_i\n",
    "\n",
    "        mo, da = (int(l) for l in text_data[0].split()[:2])\n",
    "        cs_nonel, cs_incl = {}, {}\n",
    "        e, g, mu, f, cs = (), (), (), (), ()\n",
    "\n",
    "        neucosma_data = {}\n",
    "        neucosma_data['f'] = {}\n",
    "        neucosma_data['g'] = {}\n",
    "        neucosma_data['m'] = {}\n",
    "\n",
    "        for line in text_data:\n",
    "            m, d, _, e_k, g_ijk, m_ijk, f_ik, cs_ik = line.split()\n",
    "\n",
    "            m, d = int(m), int(d)\n",
    "            if d == da:\n",
    "                e += (float(e_k), )\n",
    "                g += (float(g_ijk), )\n",
    "                mu += (float(m_ijk), )\n",
    "                f += (float(f_ik), )\n",
    "                cs += (float(cs_ik), )\n",
    "            else:\n",
    "                neucosma_data['g'][mo, da] = np.array(g)  # stored in mubarn\n",
    "                neucosma_data['m'][mo, da] = np.array(mu)\n",
    "                # Factor 1e30 below, for conversion to cm-2\n",
    "                cs_incl[mo, da] = np.array(mu) * np.array(cs) * 1e-30\n",
    "                # reset values of lists\n",
    "                da = d\n",
    "                if m != mo:\n",
    "                    neucosma_data['f'][mo] = np.array(f)\n",
    "                    cs_nonel[mo] = np.array(cs) * 1e-30  # conversion to cm-2\n",
    "                    mo = m\n",
    "                e, g, mu, f, cs = (float(e_k), ), (float(g_ijk), ), \\\n",
    "                                  (float(m_ijk), ), (float(f_ik), ),\\\n",
    "                                  (float(cs_ik), )\n",
    "\n",
    "        # Do not forget the last mother:\n",
    "        neucosma_data['f'][mo] = np.array(f)\n",
    "        cs_nonel[mo] = np.array(cs) * 1e-30  # conversion to cm-2\n",
    "\n",
    "        neucosma_data['g'][mo, da] = np.array(g)  # stored in mubarn\n",
    "        neucosma_data['m'][mo, da] = np.array(mu)\n",
    "        # Factor 1e30 below, for conversion to cm-2\n",
    "        cs_incl[mo, da] = np.array(mu) * np.array(cs) * 1e-30\n",
    "\n",
    "        # If proton and neutron cross sections are not in contained\n",
    "        # in the files, set them to 0. Needed for TALYS and CRPropa2 and PSB\n",
    "        for pid in [101, 100]:\n",
    "            if pid not in cs_nonel:\n",
    "                cs_nonel[pid] = np.zeros_like(e)\n",
    "\n",
    "        print('known species after loading NeuCosmA file:')\n",
    "        print(np.sort(list(cs_nonel.keys())))\n",
    "\n",
    "        return 10**np.array(e), cs_nonel, cs_incl"
   ]
  },
  {
   "cell_type": "code",
   "execution_count": 4,
   "metadata": {},
   "outputs": [
    {
     "name": "stdout",
     "output_type": "stream",
     "text": [
      "known species after loading NeuCosmA file:\n",
      "[ 100  101  201  302  402  904 1005 1105 1206 1306 1407 1507 1608 1708\n",
      " 1808 1909 2010 2110 2210 2311 2412 2512 2612 2713 2814 2914 3014 3115\n",
      " 3216 3316 3416 3517 3618 3718 3818 3919 4019 4119 4220 4320 4420 4521\n",
      " 4622 4722 4822 4922 5023 5123 5224 5324 5424 5525 5626]\n"
     ]
    }
   ],
   "source": [
    "egrid_old, nonel_old, incl_old = _load_NEUCOSMA_file('./prince_data_utils/resources/photo-nuclear/160513_XDIS_PSB-SS_syst.dat')"
   ]
  },
  {
   "cell_type": "markdown",
   "metadata": {},
   "source": [
    "# Consistency checks\n",
    "\n",
    "Before converting, we need to check two things:\n",
    "\n",
    "- The energy grid is the same for all channels (not guaranteed for NEUCOSMA, but requried for PriNCe)\n",
    "- The nonel cross section should be the same for all mother (It is stored redundantly)"
   ]
  },
  {
   "cell_type": "code",
   "execution_count": 5,
   "metadata": {},
   "outputs": [],
   "source": [
    "last_idx = None\n",
    "last_egrid = None\n",
    "last_csec  = None\n",
    "for index, data in data_table.groupby(level=[0,1]):\n",
    "    if last_idx is None:\n",
    "        last_idx = index\n",
    "        last_egrid = data['log10(E)']\n",
    "        last_csec = data['sigma_i']\n",
    "\n",
    "    assert np.all(last_egrid.values == data['log10(E)'].values)\n",
    "    if index[0] == last_idx[0]:\n",
    "        assert np.all(last_csec.values == data['sigma_i'].values)\n",
    " \n",
    "    last_idx = index\n",
    "    last_egrid = data['log10(E)']\n",
    "    last_csec = data['sigma_i']   \n",
    "        \n",
    "    #print(data['sigma_i']) "
   ]
  },
  {
   "cell_type": "markdown",
   "metadata": {},
   "source": [
    "# Now write this to datafiles"
   ]
  },
  {
   "cell_type": "code",
   "execution_count": 6,
   "metadata": {},
   "outputs": [
    {
     "name": "stdout",
     "output_type": "stream",
     "text": [
      "(148,)\n",
      "(405, 149)\n",
      "(49386, 150)\n"
     ]
    }
   ],
   "source": [
    "egrid_peanut = np.loadtxt('./prince_data_utils/resources/photo-nuclear/PEANUT_IAS_egrid.dat.bz2')\n",
    "nonel_peanut = np.loadtxt('./prince_data_utils/resources/photo-nuclear/PEANUT_IAS_nonel.dat.bz2')\n",
    "incl_peanut  = np.loadtxt('./prince_data_utils/resources/photo-nuclear/PEANUT_IAS_incl_i_j.dat.bz2')\n",
    "\n",
    "print(egrid_peanut.shape)\n",
    "print(nonel_peanut.shape)\n",
    "print(incl_peanut.shape)"
   ]
  },
  {
   "cell_type": "code",
   "execution_count": 7,
   "metadata": {},
   "outputs": [
    {
     "name": "stdout",
     "output_type": "stream",
     "text": [
      "(71,)\n"
     ]
    }
   ],
   "source": [
    "egrid = 10**data_table[['log10(E)']].drop_duplicates()\n",
    "egrid = egrid.values * 1e3 # energy conversion to MeV\n",
    "egrid = egrid.flatten()\n",
    "\n",
    "print(egrid.shape)\n",
    "np.savetxt('./prince_data_utils/resources/photo-nuclear/PSB_egrid.dat.bz2',egrid)"
   ]
  },
  {
   "cell_type": "code",
   "execution_count": 8,
   "metadata": {},
   "outputs": [
    {
     "name": "stdout",
     "output_type": "stream",
     "text": [
      "(3621, 1)\n",
      "(51, 72)\n"
     ]
    }
   ],
   "source": [
    "table = data_table.reset_index()\n",
    "table = table[['mother','log10(E)','sigma_i']].drop_duplicates()\n",
    "table = table.drop('log10(E)',axis='columns')\n",
    "\n",
    "table = table.set_index('mother')\n",
    "print(table.shape)\n",
    "\n",
    "array = []\n",
    "for index, data in table.groupby(level=[0]):\n",
    "    data = data.T.values.flatten() * 1e-3 # mubarn to mbarn\n",
    "    array.append(np.concatenate([np.array(index)[None],data]))   \n",
    "nonel = np.array(array)\n",
    "print(nonel.shape)\n",
    "np.savetxt('./prince_data_utils/resources/photo-nuclear/PSB_nonel.dat.bz2',nonel)"
   ]
  },
  {
   "cell_type": "code",
   "execution_count": 9,
   "metadata": {},
   "outputs": [
    {
     "name": "stdout",
     "output_type": "stream",
     "text": [
      "(48493, 1)\n",
      "(683, 73)\n"
     ]
    }
   ],
   "source": [
    "table = data_table.reset_index()\n",
    "table = table[['mother','daughter','log10(E)','dsigma_ij']].drop_duplicates()\n",
    "table = table.drop('log10(E)',axis='columns')\n",
    "\n",
    "table = table.set_index(['mother','daughter'])\n",
    "print(table.shape)\n",
    "\n",
    "array = []\n",
    "for index, data in table.groupby(level=[0,1]):\n",
    "    data = data.T.values.flatten() * 1e-3 # mubarn to mbarn\n",
    "    array.append(np.concatenate([np.array(index),data]))\n",
    "incl = np.array(array)\n",
    "print(incl.shape)\n",
    "np.savetxt('./prince_data_utils/resources/photo-nuclear/PSB_incl_i_j.dat.bz2',incl)"
   ]
  },
  {
   "cell_type": "markdown",
   "metadata": {},
   "source": [
    "# Testing"
   ]
  },
  {
   "cell_type": "code",
   "execution_count": 10,
   "metadata": {},
   "outputs": [
    {
     "data": {
      "text/plain": [
       "True"
      ]
     },
     "execution_count": 10,
     "metadata": {},
     "output_type": "execute_result"
    }
   ],
   "source": [
    "np.allclose(egrid*1e-3,egrid_old,atol=0.,rtol=1e-15) # The units are different (i.e. MeV vs GeV)"
   ]
  },
  {
   "cell_type": "code",
   "execution_count": 11,
   "metadata": {},
   "outputs": [],
   "source": [
    "for line in nonel:\n",
    "    mo = int(line[0])\n",
    "    data = line[1:]\n",
    "    #print(mo)\n",
    "    assert np.allclose(data*1e-27,nonel_old[mo],atol=0.,rtol=1e-15)"
   ]
  },
  {
   "cell_type": "code",
   "execution_count": 12,
   "metadata": {},
   "outputs": [],
   "source": [
    "for line in incl:\n",
    "    mo, da = int(line[0]),int(line[1])\n",
    "    data = line[2:]\n",
    "    # print(mo,da)\n",
    "    assert np.allclose(data*1e-27,incl_old[mo,da],atol=0.,rtol=1e-15)\n",
    "    # print((data*1e-27-incl_old[mo,da])/incl_old[mo,da])"
   ]
  },
  {
   "cell_type": "code",
   "execution_count": 13,
   "metadata": {},
   "outputs": [
    {
     "data": {
      "text/plain": [
       "51"
      ]
     },
     "execution_count": 13,
     "metadata": {},
     "output_type": "execute_result"
    }
   ],
   "source": [
    "len(nonel)"
   ]
  },
  {
   "cell_type": "code",
   "execution_count": 14,
   "metadata": {},
   "outputs": [
    {
     "data": {
      "text/plain": [
       "53"
      ]
     },
     "execution_count": 14,
     "metadata": {},
     "output_type": "execute_result"
    }
   ],
   "source": [
    "len(nonel_old)"
   ]
  },
  {
   "cell_type": "code",
   "execution_count": 15,
   "metadata": {},
   "outputs": [
    {
     "data": {
      "text/plain": [
       "683"
      ]
     },
     "execution_count": 15,
     "metadata": {},
     "output_type": "execute_result"
    }
   ],
   "source": [
    "len(incl)"
   ]
  },
  {
   "cell_type": "code",
   "execution_count": 16,
   "metadata": {},
   "outputs": [
    {
     "data": {
      "text/plain": [
       "683"
      ]
     },
     "execution_count": 16,
     "metadata": {},
     "output_type": "execute_result"
    }
   ],
   "source": [
    "len(incl_old)"
   ]
  },
  {
   "cell_type": "code",
   "execution_count": null,
   "metadata": {},
   "outputs": [],
   "source": []
  }
 ],
 "metadata": {
  "kernelspec": {
   "display_name": "Python 3",
   "language": "python",
   "name": "python3"
  },
  "language_info": {
   "codemirror_mode": {
    "name": "ipython",
    "version": 3
   },
   "file_extension": ".py",
   "mimetype": "text/x-python",
   "name": "python",
   "nbconvert_exporter": "python",
   "pygments_lexer": "ipython3",
   "version": "3.7.7"
  }
 },
 "nbformat": 4,
 "nbformat_minor": 4
}
